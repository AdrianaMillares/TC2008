{
 "cells": [
  {
   "cell_type": "markdown",
   "id": "cf123dcf",
   "metadata": {},
   "source": [
    "# M1. Actividad "
   ]
  },
  {
   "cell_type": "markdown",
   "id": "5e59ce8e",
   "metadata": {},
   "source": [
    "### Paola Adriana Millares Forno - A01705674\n",
    "### 19/11/2021"
   ]
  },
  {
   "cell_type": "markdown",
   "id": "f9e67602",
   "metadata": {},
   "source": [
    "Para esta actividad se debe generar una habitación de MxN, en la cual existirán distintas celdas que se encuentren sucias. El agente que deberemos modelar es una aspiradora que se dedica a limpiar las celdas. \n",
    "\n",
    "Las celdas sucias se deben iniciar de forma aleatoria y todas las aspiradoras deben empezar en la posición (1,1). \n",
    "\n",
    "La aspiradora deberá recorrer las celdas, en caso de estar sucia, la limpiara, si esta está limpia se moverá de celda. \n",
    "\n",
    "Como recopilación final se deben conseguir los siguientes datos:\n",
    "    Tiempo necesario hasta que todas las celdas estén limpias (o se haya llegado al tiempo máximo).\n",
    "    Porcentaje de celdas limpias después del término de la simulación.\n",
    "    Número de movimientos realizados por todos los agentes."
   ]
  },
  {
   "cell_type": "markdown",
   "id": "a9ecec92",
   "metadata": {},
   "source": [
    "### Código  "
   ]
  },
  {
   "cell_type": "markdown",
   "id": "5216c4d9",
   "metadata": {},
   "source": [
    "Para comenzar con el código, lo primero que debemos hacer es definir las librerias. Utilizaremos mesa para modelar los agentes, matplotlib para poder graficar y animar la interacción del agente con su entorno, el resto de las librerias nos sirven para manejo del tiempo o son librerias matemáticas. "
   ]
  },
  {
   "cell_type": "code",
   "execution_count": 105,
   "id": "40d67282",
   "metadata": {},
   "outputs": [],
   "source": [
    "from mesa import Agent, Model\n",
    "from mesa.time import RandomActivation\n",
    "from mesa.datacollection import DataCollector\n",
    "\n",
    "%matplotlib inline\n",
    "import matplotlib\n",
    "import matplotlib.pyplot as plt\n",
    "import matplotlib.animation as animation\n",
    "plt.rcParams[\"animation.html\"] = \"jshtml\"\n",
    "matplotlib.rcParams['animation.embed_limit'] = 2**128\n",
    "\n",
    "import numpy as np\n",
    "import pandas as pd\n",
    "\n",
    "import time\n",
    "import datetime"
   ]
  },
  {
   "cell_type": "markdown",
   "id": "5b804449",
   "metadata": {},
   "source": [
    "Declaramos la primera clase que modelará a nuestra aspiradora, esta sera la clase Robot. Este contara con: \n",
    "    unique_id: es un identificador unico de cada agente\n",
    "    model: es el comportamiento que sigue el agente \n",
    "    ancho: la medida de la habitación en el eje x \n",
    "    alto: la medida de la habitación en el eje y\n",
    "    sucio: El porcentaje de celdas que debe limpiar \n",
    "    direccion: lugar en el que se encuentra el agente, siempre empieza en (1,1)\n",
    "    velocidad = ayuda a generar el movimiento del agente \n",
    "    movimientos: el numero de movimientos que realizó el agente\n",
    "    direcciones: posibles coordenadas a las que se puede mover el agente\n",
    "    visitados: número de celdas limpias.\n",
    "    \n",
    "Se declaran los métodos para realizar el movimiento de la aspiradora en las distintas direcciones norte, sur, este, oeste, noreste, noroeste, sureste, suroeste, con sus respectivas coordenadas de movimiento.\n"
   ]
  },
  {
   "cell_type": "code",
   "execution_count": 106,
   "id": "d2823875",
   "metadata": {},
   "outputs": [],
   "source": [
    "class Robot(Agent):\n",
    "    def __init__(self, unique_id, model, ancho, alto, sucio):\n",
    "        super().__init__(unique_id, model)\n",
    "\n",
    "        # Declaración de variables\n",
    "        self.ancho = ancho\n",
    "        self.alto = alto\n",
    "        self.sucio = sucio\n",
    "        self.posicion = np.array((1,1), dtype = int)\n",
    "        vel_x = np.random.randint(2)\n",
    "        vel_y = np.random.randint(2)\n",
    "        self.velocidad = np.array((vel_x, vel_y), dtype = int)\n",
    "        self.movimientos = 0\n",
    "        self.visitados = 0\n",
    "        self.direcciones = [\"norte\", \"sur\", \"este\", \"oeste\", \"noreste\", \"noroeste\", \"sudeste\", \"sudoeste\"]\n",
    "        \n",
    "        \n",
    "    def step(self):\n",
    "        self.bordes()\n",
    "        self.mover()\n",
    "        \n",
    "        if self.limpia() == True:\n",
    "            self.posicion += self.velocidad\n",
    "            self.movimientos += 1\n",
    "        \n",
    "        \n",
    "    def mover(self):\n",
    "        direccion = np.random.choice(self.direcciones)\n",
    "        \n",
    "        if direccion == 'norte':\n",
    "            self.norte()\n",
    "        \n",
    "        elif direccion == 'sur':\n",
    "            self.sur()\n",
    "        \n",
    "        elif direccion == 'este':\n",
    "            self.este()\n",
    "        \n",
    "        elif direccion == 'oeste':\n",
    "            self.oeste()\n",
    "        \n",
    "        elif direccion == 'noreste':\n",
    "            self.noreste()\n",
    "        \n",
    "        elif direccion == 'noroeste':\n",
    "            self.noroeste()\n",
    "        \n",
    "        elif direccion == 'sudeste':\n",
    "            self.sudeste()\n",
    "        \n",
    "        elif direccion == 'sudoeste':\n",
    "            self.sudoeste()\n",
    "        \n",
    "    # Posibles direcciones a las que el robot se puede mover\n",
    "    def norte(self):\n",
    "        self.velocidad = np.array((0, 1), dtype = int)\n",
    "        \n",
    "    def sur(self):\n",
    "        self.velocidad = np.array((0, -1), dtype = int)\n",
    "        \n",
    "    def este(self):\n",
    "        self.velocidad = np.array((1, 0), dtype = int)\n",
    "        \n",
    "    def oeste(self):\n",
    "        self.velocidad = np.array((0, -1), dtype = int)\n",
    "        \n",
    "    def noreste(self):\n",
    "        self.velocidad = np.array((1, 1), dtype = int)\n",
    "        \n",
    "    def noroeste(self):\n",
    "        self.velocidad = np.array((-1, 1), dtype = int)\n",
    "        \n",
    "    def sudeste(self):\n",
    "        self.velocidad = np.array((1, -1), dtype = int)\n",
    "        \n",
    "    def sudoeste(self):\n",
    "        self.velocidad = np.array((-1, -1), dtype = int)\n",
    "        \n",
    "    #Revisar que el robot no salga de los límites establecidos\n",
    "    def bordes(self):\n",
    "        self.direcciones = [\"norte\", \"sur\", \"este\", \"oeste\", \"noreste\", \"noroeste\", \"sudeste\", \"sudoeste\"]\n",
    "        \n",
    "        if self.posicion.flatten()[0] + 1 >= self.ancho:\n",
    "            self.direcciones.remove(\"este\")\n",
    "        \n",
    "        if self.posicion.flatten()[0] - 1 <= 0:\n",
    "            self.direcciones.remove(\"oeste\")\n",
    "        \n",
    "        if self.posicion.flatten()[1] + 1 >= self.alto:\n",
    "            self.direcciones.remove(\"norte\")\n",
    "        \n",
    "        if self.posicion.flatten()[1] - 1 <= 0:\n",
    "            self.direcciones.remove(\"sur\")\n",
    "            \n",
    "        if self.posicion.flatten()[0] + 1 >= self.ancho or self.posicion.flatten()[1] + 1 >= self.alto:\n",
    "            self.direcciones.remove(\"noreste\")\n",
    "        \n",
    "        if self.posicion.flatten()[0] - 1 <= 0 or self.posicion.flatten()[1] + 1 >= self.alto:\n",
    "            self.direcciones.remove(\"noroeste\")\n",
    "            \n",
    "        if self.posicion.flatten()[0] + 1 >= self.ancho or self.posicion.flatten()[1] - 1 <= 0:\n",
    "            self.direcciones.remove(\"sudeste\")\n",
    "        if self.posicion.flatten()[0] - 1 <= 0 or self.posicion.flatten()[1] - 1 <= 0:\n",
    "            self.direcciones.remove(\"sudoeste\")\n",
    "        \n",
    "    def limpia(self):\n",
    "        for i in self.sucio:\n",
    "            if self.posicion[0] == i[0] and self.posicion[1] == i[1]:\n",
    "                self.sucio.remove(i)\n",
    "                self.visitados += 1\n",
    "                return False\n",
    "        return True\n",
    "        "
   ]
  },
  {
   "cell_type": "markdown",
   "id": "d3ce00de",
   "metadata": {},
   "source": [
    "Se declara la clase Limpiar, la cual nos ayuda a ver los datos de lo que está haciendo el agente, despliega los siguientes datos en pantalla:\n",
    "    Tiempo necesario hasta que todas las celdas estén limpias (o se haya llegado al tiempo máximo).  \n",
    "    Porcentaje de celdas limpias después del término de la simulación. \n",
    "    Número de movimientos realizados por todos los agentes."
   ]
  },
  {
   "cell_type": "code",
   "execution_count": 107,
   "id": "33ab7318",
   "metadata": {},
   "outputs": [],
   "source": [
    "def numRobots(model):\n",
    "    res = []\n",
    "    for agent in model.schedule.agents:\n",
    "        res.append(agent.posicion)\n",
    "    res = np.asarray(res)\n",
    "    return res\n",
    "\n",
    "def numSucio(model):\n",
    "    res = []\n",
    "    for agent in model.schedule.agents:\n",
    "        for i in agent.sucio:\n",
    "            res.append(i)\n",
    "    res = np.asarray(res)\n",
    "    return res\n",
    "\n",
    "class Limpiar(Model):\n",
    "    def __init__(self, N, ancho, alto, porcentaje):\n",
    "        \n",
    "        self.N = N\n",
    "        self.schedule = RandomActivation(self)\n",
    "        \n",
    "        cont = int((ancho * alto) * (porcentaje/100))\n",
    "        sucio = []\n",
    "\n",
    "        for i in range(cont):\n",
    "            pos = []\n",
    "\n",
    "            x = np.random.randint(ancho)\n",
    "            y = np.random.randint(alto)\n",
    "            \n",
    "            pos.append(x)\n",
    "            pos.append(y)\n",
    "            \n",
    "            sucio.append(pos)\n",
    "            \n",
    "        for robot in range(self.N):\n",
    "            r = Robot(robot, self, ancho, alto, sucio)\n",
    "            self.schedule.add(r)\n",
    "            \n",
    "        self.datacollector = DataCollector(model_reporters = {\"Robots\" : numRobots, \"Cells\" : numSucio})\n",
    "        self.mov = 0\n",
    "        self.visitados = 0\n",
    "            \n",
    "    def step(self):\n",
    "        \n",
    "        self.datacollector.collect(self)\n",
    "        self.numLimpias()\n",
    "        self.numMov()\n",
    "        self.schedule.step()\n",
    "        \n",
    "    def numLimpias(self):\n",
    "        self.visitados = 0\n",
    "        \n",
    "        for agent in model.schedule.agents:\n",
    "            self.visitados += agent.visitados\n",
    "\n",
    "    def numMov(self):\n",
    "        self.mov = 0\n",
    "        \n",
    "        for agent in model.schedule.agents:\n",
    "            self.mov += agent.movimientos\n"
   ]
  },
  {
   "cell_type": "markdown",
   "id": "0efc8bc5",
   "metadata": {},
   "source": [
    "Se declaran los valores con los que iniciaremos la habitación, alto, ancho, procentaje de celdas sucias\n",
    "y el número de agentes que intervendran. \n",
    "Tambien se desplegarán en pantalla los siguientes valores:\n",
    "    Total de movimientos\n",
    "    Celdas limpiadas\n",
    "    Tiempo de ejecucion"
   ]
  },
  {
   "cell_type": "code",
   "execution_count": 108,
   "id": "0bc3b775",
   "metadata": {},
   "outputs": [
    {
     "name": "stdout",
     "output_type": "stream",
     "text": [
      "Total de movimientos = 492\n",
      "Total de celdas limpiadas = 70.0%\n",
      "Tiempo: 0:00:00.026116\n"
     ]
    }
   ],
   "source": [
    "ANCHO = 10\n",
    "ALTO = 10\n",
    "PORCENTAJE = 10\n",
    "N = 1\n",
    "MAX_ITERATIONS = 500\n",
    "\n",
    "start_time = time.time()\n",
    "\n",
    "model = Limpiar(N, ANCHO, ALTO, PORCENTAJE)\n",
    "\n",
    "for i in range(MAX_ITERATIONS):\n",
    "    model.step()\n",
    "\n",
    "print(\"Total de movimientos = \" + str(model.mov))  \n",
    "print(\"Total de celdas limpiadas = \" + str((model.visitados/((ANCHO*ALTO)/PORCENTAJE))*100) + \"%\" )\n",
    "print('Tiempo:', str(datetime.timedelta(seconds=(time.time() - start_time))))"
   ]
  },
  {
   "cell_type": "markdown",
   "id": "bc7ac5f1",
   "metadata": {},
   "source": [
    "Se genera la animación"
   ]
  },
  {
   "cell_type": "code",
   "execution_count": 109,
   "id": "4814c17b",
   "metadata": {},
   "outputs": [],
   "source": [
    "all_positions = model.datacollector.get_model_vars_dataframe()"
   ]
  },
  {
   "cell_type": "code",
   "execution_count": 110,
   "id": "9c4211e4",
   "metadata": {},
   "outputs": [
    {
     "data": {
      "image/png": "[encoded data removed]",
      "text/plain": [
       "<Figure size 504x504 with 1 Axes>"
      ]
     },
     "metadata": {
      "needs_background": "light"
     },
     "output_type": "display_data"
    }
   ],
   "source": [
    "fig, ax = plt.subplots(figsize=(7,7))\n",
    "scatter = ax.scatter(all_positions.iloc[0][0][:,0], all_positions.iloc[0][0][:,1], \n",
    "                  s=50, cmap=\"jet\", edgecolor=\"k\",  marker=\"s\")\n",
    "garbage = ax.scatter(all_positions.iloc[0][1][:,0], all_positions.iloc[0][1][:,1], \n",
    "                  s=10, cmap=\"jet\", edgecolor=\"k\")\n",
    "ax.axis([0, ANCHO, 0, ALTO])\n",
    "def update(frame_number):\n",
    "    scatter.set_offsets(all_positions.iloc[frame_number][0])\n",
    "    garbage.set_offsets(all_positions.iloc[frame_number][1])\n",
    "    return scatter\n",
    "\n",
    "anim = animation.FuncAnimation(fig, update, frames=MAX_ITERATIONS)"
   ]
  },
  {
   "cell_type": "markdown",
   "id": "0c01ab3a",
   "metadata": {},
   "source": [
    "### Animación"
   ]
  },
  {
   "cell_type": "code",
   "execution_count": null,
   "id": "10e82fca",
   "metadata": {},
   "outputs": [],
   "source": [
    "anim"
   ]
  }
 ],
 "metadata": {
  "kernelspec": {
   "display_name": "Python 3",
   "language": "python",
   "name": "python3"
  },
  "language_info": {
   "codemirror_mode": {
    "name": "ipython",
    "version": 3
   },
   "file_extension": ".py",
   "mimetype": "text/x-python",
   "name": "python",
   "nbconvert_exporter": "python",
   "pygments_lexer": "ipython3",
   "version": "3.8.8"
  }
 },
 "nbformat": 4,
 "nbformat_minor": 5
}
